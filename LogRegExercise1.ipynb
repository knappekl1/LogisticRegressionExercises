{
 "cells": [
  {
   "cell_type": "code",
   "execution_count": 1,
   "id": "bizarre-companion",
   "metadata": {},
   "outputs": [],
   "source": [
    "import numpy as np\n",
    "import pandas as pd\n",
    "import matplotlib.pyplot as plt\n",
    "import seaborn as sns"
   ]
  },
  {
   "cell_type": "code",
   "execution_count": 52,
   "id": "endless-guatemala",
   "metadata": {},
   "outputs": [],
   "source": [
    "array = np.linspace(-10,10, num=201)"
   ]
  },
  {
   "cell_type": "code",
   "execution_count": 53,
   "id": "inappropriate-turkish",
   "metadata": {},
   "outputs": [
    {
     "data": {
      "text/plain": [
       "array([-10. ,  -9.9,  -9.8,  -9.7,  -9.6,  -9.5,  -9.4,  -9.3,  -9.2,\n",
       "        -9.1,  -9. ,  -8.9,  -8.8,  -8.7,  -8.6,  -8.5,  -8.4,  -8.3,\n",
       "        -8.2,  -8.1,  -8. ,  -7.9,  -7.8,  -7.7,  -7.6,  -7.5,  -7.4,\n",
       "        -7.3,  -7.2,  -7.1,  -7. ,  -6.9,  -6.8,  -6.7,  -6.6,  -6.5,\n",
       "        -6.4,  -6.3,  -6.2,  -6.1,  -6. ,  -5.9,  -5.8,  -5.7,  -5.6,\n",
       "        -5.5,  -5.4,  -5.3,  -5.2,  -5.1,  -5. ,  -4.9,  -4.8,  -4.7,\n",
       "        -4.6,  -4.5,  -4.4,  -4.3,  -4.2,  -4.1,  -4. ,  -3.9,  -3.8,\n",
       "        -3.7,  -3.6,  -3.5,  -3.4,  -3.3,  -3.2,  -3.1,  -3. ,  -2.9,\n",
       "        -2.8,  -2.7,  -2.6,  -2.5,  -2.4,  -2.3,  -2.2,  -2.1,  -2. ,\n",
       "        -1.9,  -1.8,  -1.7,  -1.6,  -1.5,  -1.4,  -1.3,  -1.2,  -1.1,\n",
       "        -1. ,  -0.9,  -0.8,  -0.7,  -0.6,  -0.5,  -0.4,  -0.3,  -0.2,\n",
       "        -0.1,   0. ,   0.1,   0.2,   0.3,   0.4,   0.5,   0.6,   0.7,\n",
       "         0.8,   0.9,   1. ,   1.1,   1.2,   1.3,   1.4,   1.5,   1.6,\n",
       "         1.7,   1.8,   1.9,   2. ,   2.1,   2.2,   2.3,   2.4,   2.5,\n",
       "         2.6,   2.7,   2.8,   2.9,   3. ,   3.1,   3.2,   3.3,   3.4,\n",
       "         3.5,   3.6,   3.7,   3.8,   3.9,   4. ,   4.1,   4.2,   4.3,\n",
       "         4.4,   4.5,   4.6,   4.7,   4.8,   4.9,   5. ,   5.1,   5.2,\n",
       "         5.3,   5.4,   5.5,   5.6,   5.7,   5.8,   5.9,   6. ,   6.1,\n",
       "         6.2,   6.3,   6.4,   6.5,   6.6,   6.7,   6.8,   6.9,   7. ,\n",
       "         7.1,   7.2,   7.3,   7.4,   7.5,   7.6,   7.7,   7.8,   7.9,\n",
       "         8. ,   8.1,   8.2,   8.3,   8.4,   8.5,   8.6,   8.7,   8.8,\n",
       "         8.9,   9. ,   9.1,   9.2,   9.3,   9.4,   9.5,   9.6,   9.7,\n",
       "         9.8,   9.9,  10. ])"
      ]
     },
     "execution_count": 53,
     "metadata": {},
     "output_type": "execute_result"
    }
   ],
   "source": [
    "array"
   ]
  },
  {
   "cell_type": "code",
   "execution_count": 54,
   "id": "horizontal-creek",
   "metadata": {},
   "outputs": [],
   "source": [
    "def sigmoid(x):\n",
    "    s = 1/(1+ np.exp(-x))\n",
    "    return s"
   ]
  },
  {
   "cell_type": "code",
   "execution_count": 55,
   "id": "parental-minority",
   "metadata": {},
   "outputs": [
    {
     "data": {
      "text/plain": [
       "3.7200759760208356e-44"
      ]
     },
     "execution_count": 55,
     "metadata": {},
     "output_type": "execute_result"
    }
   ],
   "source": [
    "sigmoid(-100)"
   ]
  },
  {
   "cell_type": "code",
   "execution_count": 56,
   "id": "extreme-allowance",
   "metadata": {},
   "outputs": [],
   "source": [
    "s_func = np.vectorize(sigmoid)"
   ]
  },
  {
   "cell_type": "code",
   "execution_count": 57,
   "id": "psychological-elder",
   "metadata": {},
   "outputs": [],
   "source": [
    "s_array = s_func(array)"
   ]
  },
  {
   "cell_type": "code",
   "execution_count": 58,
   "id": "solid-senator",
   "metadata": {},
   "outputs": [
    {
     "data": {
      "text/plain": [
       "array([4.53978687e-05, 5.01721647e-05, 5.54485247e-05, 6.12797396e-05,\n",
       "       6.77241496e-05, 7.48462275e-05, 8.27172229e-05, 9.14158739e-05,\n",
       "       1.01029194e-04, 1.11653341e-04, 1.23394576e-04, 1.36370327e-04,\n",
       "       1.50710358e-04, 1.66558065e-04, 1.84071905e-04, 2.03426978e-04,\n",
       "       2.24816770e-04, 2.48455082e-04, 2.74578156e-04, 3.03447030e-04,\n",
       "       3.35350130e-04, 3.70606141e-04, 4.09567165e-04, 4.52622223e-04,\n",
       "       5.00201107e-04, 5.52778637e-04, 6.10879359e-04, 6.75082731e-04,\n",
       "       7.46028834e-04, 8.24424686e-04, 9.11051194e-04, 1.00677082e-03,\n",
       "       1.11253603e-03, 1.22939862e-03, 1.35851995e-03, 1.50118226e-03,\n",
       "       1.65880108e-03, 1.83293894e-03, 2.02532039e-03, 2.23784852e-03,\n",
       "       2.47262316e-03, 2.73196076e-03, 3.01841632e-03, 3.33480731e-03,\n",
       "       3.68423990e-03, 4.07013772e-03, 4.49627316e-03, 4.96680165e-03,\n",
       "       5.48629890e-03, 6.05980149e-03, 6.69285092e-03, 7.39154134e-03,\n",
       "       8.16257115e-03, 9.01329865e-03, 9.95180187e-03, 1.09869426e-02,\n",
       "       1.21284350e-02, 1.33869178e-02, 1.47740317e-02, 1.63024994e-02,\n",
       "       1.79862100e-02, 1.98403057e-02, 2.18812709e-02, 2.41270214e-02,\n",
       "       2.65969936e-02, 2.93122308e-02, 3.22954647e-02, 3.55711893e-02,\n",
       "       3.91657228e-02, 4.31072549e-02, 4.74258732e-02, 5.21535631e-02,\n",
       "       5.73241759e-02, 6.29733561e-02, 6.91384203e-02, 7.58581800e-02,\n",
       "       8.31726965e-02, 9.11229610e-02, 9.97504891e-02, 1.09096821e-01,\n",
       "       1.19202922e-01, 1.30108474e-01, 1.41851065e-01, 1.54465265e-01,\n",
       "       1.67981615e-01, 1.82425524e-01, 1.97816111e-01, 2.14165017e-01,\n",
       "       2.31475217e-01, 2.49739894e-01, 2.68941421e-01, 2.89050497e-01,\n",
       "       3.10025519e-01, 3.31812228e-01, 3.54343694e-01, 3.77540669e-01,\n",
       "       4.01312340e-01, 4.25557483e-01, 4.50166003e-01, 4.75020813e-01,\n",
       "       5.00000000e-01, 5.24979187e-01, 5.49833997e-01, 5.74442517e-01,\n",
       "       5.98687660e-01, 6.22459331e-01, 6.45656306e-01, 6.68187772e-01,\n",
       "       6.89974481e-01, 7.10949503e-01, 7.31058579e-01, 7.50260106e-01,\n",
       "       7.68524783e-01, 7.85834983e-01, 8.02183889e-01, 8.17574476e-01,\n",
       "       8.32018385e-01, 8.45534735e-01, 8.58148935e-01, 8.69891526e-01,\n",
       "       8.80797078e-01, 8.90903179e-01, 9.00249511e-01, 9.08877039e-01,\n",
       "       9.16827304e-01, 9.24141820e-01, 9.30861580e-01, 9.37026644e-01,\n",
       "       9.42675824e-01, 9.47846437e-01, 9.52574127e-01, 9.56892745e-01,\n",
       "       9.60834277e-01, 9.64428811e-01, 9.67704535e-01, 9.70687769e-01,\n",
       "       9.73403006e-01, 9.75872979e-01, 9.78118729e-01, 9.80159694e-01,\n",
       "       9.82013790e-01, 9.83697501e-01, 9.85225968e-01, 9.86613082e-01,\n",
       "       9.87871565e-01, 9.89013057e-01, 9.90048198e-01, 9.90986701e-01,\n",
       "       9.91837429e-01, 9.92608459e-01, 9.93307149e-01, 9.93940199e-01,\n",
       "       9.94513701e-01, 9.95033198e-01, 9.95503727e-01, 9.95929862e-01,\n",
       "       9.96315760e-01, 9.96665193e-01, 9.96981584e-01, 9.97268039e-01,\n",
       "       9.97527377e-01, 9.97762151e-01, 9.97974680e-01, 9.98167061e-01,\n",
       "       9.98341199e-01, 9.98498818e-01, 9.98641480e-01, 9.98770601e-01,\n",
       "       9.98887464e-01, 9.98993229e-01, 9.99088949e-01, 9.99175575e-01,\n",
       "       9.99253971e-01, 9.99324917e-01, 9.99389121e-01, 9.99447221e-01,\n",
       "       9.99499799e-01, 9.99547378e-01, 9.99590433e-01, 9.99629394e-01,\n",
       "       9.99664650e-01, 9.99696553e-01, 9.99725422e-01, 9.99751545e-01,\n",
       "       9.99775183e-01, 9.99796573e-01, 9.99815928e-01, 9.99833442e-01,\n",
       "       9.99849290e-01, 9.99863630e-01, 9.99876605e-01, 9.99888347e-01,\n",
       "       9.99898971e-01, 9.99908584e-01, 9.99917283e-01, 9.99925154e-01,\n",
       "       9.99932276e-01, 9.99938720e-01, 9.99944551e-01, 9.99949828e-01,\n",
       "       9.99954602e-01])"
      ]
     },
     "execution_count": 58,
     "metadata": {},
     "output_type": "execute_result"
    }
   ],
   "source": [
    "s_array"
   ]
  },
  {
   "cell_type": "code",
   "execution_count": 74,
   "id": "hawaiian-sherman",
   "metadata": {},
   "outputs": [
    {
     "data": {
      "image/png": "[encoded data removed]",
      "text/plain": [
       "<Figure size 432x288 with 1 Axes>"
      ]
     },
     "metadata": {
      "needs_background": "light"
     },
     "output_type": "display_data"
    }
   ],
   "source": [
    "plt.plot(range(-100,101),s_array)\n",
    "plt.yscale(\"log\")"
   ]
  },
  {
   "cell_type": "code",
   "execution_count": 68,
   "id": "vanilla-presence",
   "metadata": {},
   "outputs": [],
   "source": [
    "my_arr = np.linspace(-10,10, num=201)"
   ]
  },
  {
   "cell_type": "code",
   "execution_count": 69,
   "id": "selective-standing",
   "metadata": {},
   "outputs": [],
   "source": [
    "my_new_arr = np.exp(my_arr)"
   ]
  },
  {
   "cell_type": "code",
   "execution_count": 70,
   "id": "temporal-aircraft",
   "metadata": {},
   "outputs": [
    {
     "data": {
      "text/plain": [
       "array([4.53999298e-05, 5.01746821e-05, 5.54515994e-05, 6.12834951e-05,\n",
       "       6.77287365e-05, 7.48518299e-05, 8.27240656e-05, 9.14242315e-05,\n",
       "       1.01039402e-04, 1.11665808e-04, 1.23409804e-04, 1.36388926e-04,\n",
       "       1.50733075e-04, 1.66585811e-04, 1.84105794e-04, 2.03468369e-04,\n",
       "       2.24867324e-04, 2.48516827e-04, 2.74653570e-04, 3.03539138e-04,\n",
       "       3.35462628e-04, 3.70743540e-04, 4.09734979e-04, 4.52827183e-04,\n",
       "       5.00451433e-04, 5.53084370e-04, 6.11252761e-04, 6.75538775e-04,\n",
       "       7.46585808e-04, 8.25104923e-04, 9.11881966e-04, 1.00778543e-03,\n",
       "       1.11377515e-03, 1.23091190e-03, 1.36036804e-03, 1.50343919e-03,\n",
       "       1.66155727e-03, 1.83630478e-03, 2.02943064e-03, 2.24286772e-03,\n",
       "       2.47875218e-03, 2.73944482e-03, 3.02755475e-03, 3.34596546e-03,\n",
       "       3.69786372e-03, 4.08677144e-03, 4.51658094e-03, 4.99159391e-03,\n",
       "       5.51656442e-03, 6.09674657e-03, 6.73794700e-03, 7.44658307e-03,\n",
       "       8.22974705e-03, 9.09527710e-03, 1.00518357e-02, 1.11089965e-02,\n",
       "       1.22773399e-02, 1.35685590e-02, 1.49955768e-02, 1.65726754e-02,\n",
       "       1.83156389e-02, 2.02419114e-02, 2.23707719e-02, 2.47235265e-02,\n",
       "       2.73237224e-02, 3.01973834e-02, 3.33732700e-02, 3.68831674e-02,\n",
       "       4.07622040e-02, 4.50492024e-02, 4.97870684e-02, 5.50232201e-02,\n",
       "       6.08100626e-02, 6.72055127e-02, 7.42735782e-02, 8.20849986e-02,\n",
       "       9.07179533e-02, 1.00258844e-01, 1.10803158e-01, 1.22456428e-01,\n",
       "       1.35335283e-01, 1.49568619e-01, 1.65298888e-01, 1.82683524e-01,\n",
       "       2.01896518e-01, 2.23130160e-01, 2.46596964e-01, 2.72531793e-01,\n",
       "       3.01194212e-01, 3.32871084e-01, 3.67879441e-01, 4.06569660e-01,\n",
       "       4.49328964e-01, 4.96585304e-01, 5.48811636e-01, 6.06530660e-01,\n",
       "       6.70320046e-01, 7.40818221e-01, 8.18730753e-01, 9.04837418e-01,\n",
       "       1.00000000e+00, 1.10517092e+00, 1.22140276e+00, 1.34985881e+00,\n",
       "       1.49182470e+00, 1.64872127e+00, 1.82211880e+00, 2.01375271e+00,\n",
       "       2.22554093e+00, 2.45960311e+00, 2.71828183e+00, 3.00416602e+00,\n",
       "       3.32011692e+00, 3.66929667e+00, 4.05519997e+00, 4.48168907e+00,\n",
       "       4.95303242e+00, 5.47394739e+00, 6.04964746e+00, 6.68589444e+00,\n",
       "       7.38905610e+00, 8.16616991e+00, 9.02501350e+00, 9.97418245e+00,\n",
       "       1.10231764e+01, 1.21824940e+01, 1.34637380e+01, 1.48797317e+01,\n",
       "       1.64446468e+01, 1.81741454e+01, 2.00855369e+01, 2.21979513e+01,\n",
       "       2.45325302e+01, 2.71126389e+01, 2.99641000e+01, 3.31154520e+01,\n",
       "       3.65982344e+01, 4.04473044e+01, 4.47011845e+01, 4.94024491e+01,\n",
       "       5.45981500e+01, 6.03402876e+01, 6.66863310e+01, 7.36997937e+01,\n",
       "       8.14508687e+01, 9.00171313e+01, 9.94843156e+01, 1.09947172e+02,\n",
       "       1.21510418e+02, 1.34289780e+02, 1.48413159e+02, 1.64021907e+02,\n",
       "       1.81272242e+02, 2.00336810e+02, 2.21406416e+02, 2.44691932e+02,\n",
       "       2.70426407e+02, 2.98867401e+02, 3.30299560e+02, 3.65037468e+02,\n",
       "       4.03428793e+02, 4.45857770e+02, 4.92749041e+02, 5.44571910e+02,\n",
       "       6.01845038e+02, 6.65141633e+02, 7.35095189e+02, 8.12405825e+02,\n",
       "       8.97847292e+02, 9.92274716e+02, 1.09663316e+03, 1.21196707e+03,\n",
       "       1.33943076e+03, 1.48029993e+03, 1.63598443e+03, 1.80804241e+03,\n",
       "       1.99819590e+03, 2.20834799e+03, 2.44060198e+03, 2.69728233e+03,\n",
       "       2.98095799e+03, 3.29446808e+03, 3.64095031e+03, 4.02387239e+03,\n",
       "       4.44706675e+03, 4.91476884e+03, 5.43165959e+03, 6.00291222e+03,\n",
       "       6.63424401e+03, 7.33197354e+03, 8.10308393e+03, 8.95529270e+03,\n",
       "       9.89712906e+03, 1.09380192e+04, 1.20883807e+04, 1.33597268e+04,\n",
       "       1.47647816e+04, 1.63176072e+04, 1.80337449e+04, 1.99303704e+04,\n",
       "       2.20264658e+04])"
      ]
     },
     "execution_count": 70,
     "metadata": {},
     "output_type": "execute_result"
    }
   ],
   "source": [
    "my_new_arr"
   ]
  },
  {
   "cell_type": "code",
   "execution_count": 73,
   "id": "seven-writing",
   "metadata": {},
   "outputs": [
    {
     "data": {
      "image/png": "[encoded data removed]",
      "text/plain": [
       "<Figure size 432x288 with 1 Axes>"
      ]
     },
     "metadata": {
      "needs_background": "light"
     },
     "output_type": "display_data"
    }
   ],
   "source": [
    "plt.plot(range(-100,101), my_new_arr)\n",
    "plt.yscale(\"log\")"
   ]
  },
  {
   "cell_type": "code",
   "execution_count": null,
   "id": "rocky-alaska",
   "metadata": {},
   "outputs": [],
   "source": []
  }
 ],
 "metadata": {
  "kernelspec": {
   "display_name": "Python 3",
   "language": "python",
   "name": "python3"
  },
  "language_info": {
   "codemirror_mode": {
    "name": "ipython",
    "version": 3
   },
   "file_extension": ".py",
   "mimetype": "text/x-python",
   "name": "python",
   "nbconvert_exporter": "python",
   "pygments_lexer": "ipython3",
   "version": "3.9.1"
  }
 },
 "nbformat": 4,
 "nbformat_minor": 5
}
